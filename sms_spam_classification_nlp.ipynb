{
 "cells": [
  {
   "cell_type": "markdown",
   "id": "d6327f75",
   "metadata": {},
   "source": [
    "<div style=\"background-color: #e0f7fa; padding: 15px; border-radius: 8px;\">\n",
    "<h1 style=\"color: #00796b; font-family: Arial, sans-serif; font-size: 36px; text-align: left;\">SMS Spam Classification using Natural Language Processing (NLP)</h1>\n",
    "</div>\n",
    "\n",
    "## Table of Contents\n",
    "\n",
    "1. [Introduction](#1-Introduction)\n",
    "2. [Import Necessary Packages](#2-Import-Necessary-Packages)\n",
    "3. [Data Import](#3-Data-Import)\n",
    "4. [Data Preprocessing](#4-Data-Preprocessing)\n",
    "   1. [Punctuation Removal and Lowercasing](#41-Punctuation-Removal-and-Lowercasing)\n",
    "   2. [Tokenization](#42-Tokenization)\n",
    "   3. [Stop Word Removal](#43-Stop-Word-Removal)\n",
    "   4. [Lemmatization](#44-Lemmatization)\n",
    "5. [Text Vectorization](#5-Text-Vectorization)\n",
    "6. [Model Building](#6-Model-Building)\n",
    "7. [Model Evaluation](#7-Model-Evaluation)\n",
    "8. [Conclusion](#8-Conclusion)\n",
    "\n",
    "---"
   ]
  },
  {
   "cell_type": "markdown",
   "id": "096fb0cd",
   "metadata": {},
   "source": [
    "## 1. Introduction\n",
    "This notebook demonstrates how to classify SMS messages as either \"spam\" or \"ham\" (non-spam) using natural language processing (NLP) and machine learning. We use the SMS Spam Collection dataset from the UCI Machine Learning Repository for this task.\n",
    "\n",
    "**Dataset Attribution:**  \n",
    "The SMS Spam Collection dataset is licensed under the [Creative Commons Attribution 4.0 International (CC BY 4.0)](https://creativecommons.org/licenses/by/4.0/) license. This dataset was contributed by Almeida, T.A., Hidalgo, J.M.G., & Yamakami, A.. Any changes to the dataset are for preprocessing and analysis purposes in this notebook.\n",
    "\n",
    "For more information about the dataset, visit the [UCI SMS Spam Collection Dataset Repository](https://archive.ics.uci.edu/ml/datasets/sms+spam+collection#)."
   ]
  },
  {
   "cell_type": "markdown",
   "id": "c818b25f",
   "metadata": {},
   "source": [
    "---"
   ]
  },
  {
   "cell_type": "markdown",
   "id": "be1b8ecd",
   "metadata": {},
   "source": [
    "## 2. Import Necessary Packages\n",
    "\n",
    "The following libraries are used in this notebook:\n",
    "\n",
    "- **numpy**: For numerical computations.\n",
    "- **pandas**: For data manipulation and analysis using DataFrames.\n",
    "- **matplotlib** and **seaborn**: For data visualization.\n",
    "- **nltk**: Natural Language Toolkit for text processing tasks. This includes:\n",
    "  - **stopwords**: A module to filter out common English words that do not add much meaning to the text.\n",
    "  - **wordnet**: A lexical database used for lemmatization in this notebook. It also provides rich semantic information, such as synonyms, antonyms, definitions, and relationships between words.\n",
    "- **re** and **string**: For regular expressions and string manipulations during text preprocessing.\n",
    "- **sklearn**: A machine learning library for building and evaluating the classification model (includes modules for model selection, vectorization, and metrics)."
   ]
  },
  {
   "cell_type": "code",
   "execution_count": 1,
   "id": "473eb3d8",
   "metadata": {},
   "outputs": [],
   "source": [
    "import numpy as np\n",
    "import pandas as pd\n",
    "import matplotlib.pyplot as plt\n",
    "import seaborn as sns\n",
    "import nltk\n",
    "import re\n",
    "import string\n",
    "from sklearn.feature_extraction.text import TfidfVectorizer\n",
    "from sklearn.ensemble import RandomForestClassifier\n",
    "from sklearn.model_selection import GridSearchCV\n",
    "from sklearn.metrics import confusion_matrix, ConfusionMatrixDisplay"
   ]
  },
  {
   "cell_type": "code",
   "execution_count": 2,
   "id": "cfb8b236",
   "metadata": {},
   "outputs": [
    {
     "name": "stderr",
     "output_type": "stream",
     "text": [
      "[nltk_data] Downloading package stopwords to\n",
      "[nltk_data]     C:\\Users\\rkura\\AppData\\Roaming\\nltk_data...\n",
      "[nltk_data]   Package stopwords is already up-to-date!\n",
      "[nltk_data] Downloading package wordnet to\n",
      "[nltk_data]     C:\\Users\\rkura\\AppData\\Roaming\\nltk_data...\n",
      "[nltk_data]   Package wordnet is already up-to-date!\n"
     ]
    }
   ],
   "source": [
    "# Download necessary NLTK resources\n",
    "nltk.download('stopwords')\n",
    "nltk.download('wordnet')\n",
    "from nltk.corpus import stopwords\n",
    "from nltk.stem import WordNetLemmatizer"
   ]
  },
  {
   "cell_type": "markdown",
   "id": "be5ec3e7",
   "metadata": {},
   "source": [
    "---"
   ]
  },
  {
   "cell_type": "markdown",
   "id": "05bbbdbc",
   "metadata": {},
   "source": [
    "## 3. Data Import\n",
    "This notebook uses the UCI SMS Spam Collection dataset. It consists of a collection of SMS messages labeled as \"ham\" (legitimate) or \"spam\".\n",
    "\n",
    "The dataset is in a tab-separated format, with the first column representing the label and the second column containing the text message."
   ]
  },
  {
   "cell_type": "code",
   "execution_count": 3,
   "id": "f62b70f0",
   "metadata": {},
   "outputs": [
    {
     "data": {
      "text/html": [
       "<div>\n",
       "<style scoped>\n",
       "    .dataframe tbody tr th:only-of-type {\n",
       "        vertical-align: middle;\n",
       "    }\n",
       "\n",
       "    .dataframe tbody tr th {\n",
       "        vertical-align: top;\n",
       "    }\n",
       "\n",
       "    .dataframe thead th {\n",
       "        text-align: right;\n",
       "    }\n",
       "</style>\n",
       "<table border=\"1\" class=\"dataframe\">\n",
       "  <thead>\n",
       "    <tr style=\"text-align: right;\">\n",
       "      <th></th>\n",
       "      <th>label</th>\n",
       "      <th>SMS_text</th>\n",
       "    </tr>\n",
       "  </thead>\n",
       "  <tbody>\n",
       "    <tr>\n",
       "      <th>0</th>\n",
       "      <td>ham</td>\n",
       "      <td>Go until jurong point, crazy.. Available only ...</td>\n",
       "    </tr>\n",
       "    <tr>\n",
       "      <th>1</th>\n",
       "      <td>ham</td>\n",
       "      <td>Ok lar... Joking wif u oni...</td>\n",
       "    </tr>\n",
       "    <tr>\n",
       "      <th>2</th>\n",
       "      <td>spam</td>\n",
       "      <td>Free entry in 2 a wkly comp to win FA Cup fina...</td>\n",
       "    </tr>\n",
       "    <tr>\n",
       "      <th>3</th>\n",
       "      <td>ham</td>\n",
       "      <td>U dun say so early hor... U c already then say...</td>\n",
       "    </tr>\n",
       "    <tr>\n",
       "      <th>4</th>\n",
       "      <td>ham</td>\n",
       "      <td>Nah I don't think he goes to usf, he lives aro...</td>\n",
       "    </tr>\n",
       "  </tbody>\n",
       "</table>\n",
       "</div>"
      ],
      "text/plain": [
       "  label                                           SMS_text\n",
       "0   ham  Go until jurong point, crazy.. Available only ...\n",
       "1   ham                      Ok lar... Joking wif u oni...\n",
       "2  spam  Free entry in 2 a wkly comp to win FA Cup fina...\n",
       "3   ham  U dun say so early hor... U c already then say...\n",
       "4   ham  Nah I don't think he goes to usf, he lives aro..."
      ]
     },
     "metadata": {},
     "output_type": "display_data"
    },
    {
     "data": {
      "text/html": [
       "<div>\n",
       "<style scoped>\n",
       "    .dataframe tbody tr th:only-of-type {\n",
       "        vertical-align: middle;\n",
       "    }\n",
       "\n",
       "    .dataframe tbody tr th {\n",
       "        vertical-align: top;\n",
       "    }\n",
       "\n",
       "    .dataframe thead th {\n",
       "        text-align: right;\n",
       "    }\n",
       "</style>\n",
       "<table border=\"1\" class=\"dataframe\">\n",
       "  <thead>\n",
       "    <tr style=\"text-align: right;\">\n",
       "      <th></th>\n",
       "      <th>label</th>\n",
       "      <th>SMS_text</th>\n",
       "    </tr>\n",
       "  </thead>\n",
       "  <tbody>\n",
       "    <tr>\n",
       "      <th>count</th>\n",
       "      <td>5572</td>\n",
       "      <td>5572</td>\n",
       "    </tr>\n",
       "    <tr>\n",
       "      <th>unique</th>\n",
       "      <td>2</td>\n",
       "      <td>5169</td>\n",
       "    </tr>\n",
       "    <tr>\n",
       "      <th>top</th>\n",
       "      <td>ham</td>\n",
       "      <td>Sorry, I'll call later</td>\n",
       "    </tr>\n",
       "    <tr>\n",
       "      <th>freq</th>\n",
       "      <td>4825</td>\n",
       "      <td>30</td>\n",
       "    </tr>\n",
       "  </tbody>\n",
       "</table>\n",
       "</div>"
      ],
      "text/plain": [
       "       label                SMS_text\n",
       "count   5572                    5572\n",
       "unique     2                    5169\n",
       "top      ham  Sorry, I'll call later\n",
       "freq    4825                      30"
      ]
     },
     "metadata": {},
     "output_type": "display_data"
    }
   ],
   "source": [
    "# Load the dataset into a pandas DataFrame\n",
    "sms_df = pd.read_csv(\"SMSSpamCollection\", sep='\\t', header=None, names=['label', 'SMS_text'], encoding='utf-8')\n",
    "\n",
    "# Display the first few rows of the DataFrame\n",
    "display(sms_df.head())\n",
    "\n",
    "# Display the number of rows and unique values in the 'label' and 'SMS_text' column\n",
    "display(sms_df.describe())"
   ]
  },
  {
   "cell_type": "markdown",
   "id": "76e36708",
   "metadata": {},
   "source": [
    "---"
   ]
  },
  {
   "cell_type": "markdown",
   "id": "42e36b37",
   "metadata": {},
   "source": [
    "## 4. Data Preprocessing\n",
    "Text preprocessing involves several steps:\n",
    "1. Removing punctuation and converting to lowercase.\n",
    "2. Tokenizing the text into words.\n",
    "3. Removing stop words (common words with little semantic meaning).\n",
    "4. Lemmatizing the text to convert words to their base form.\n",
    "\n",
    "### 4.1. Punctuation Removal and Lowercasing\n",
    "Remove punctuation from the text and convert all characters to lowercase for standardization."
   ]
  },
  {
   "cell_type": "code",
   "execution_count": 4,
   "id": "8a6bb8d4",
   "metadata": {},
   "outputs": [
    {
     "data": {
      "text/plain": [
       "0    go until jurong point crazy available only in ...\n",
       "1                              ok lar joking wif u oni\n",
       "2    free entry in 2 a wkly comp to win fa cup fina...\n",
       "3          u dun say so early hor u c already then say\n",
       "4    nah i dont think he goes to usf he lives aroun...\n",
       "Name: SMS_text_clean, dtype: object"
      ]
     },
     "execution_count": 4,
     "metadata": {},
     "output_type": "execute_result"
    }
   ],
   "source": [
    "# Remove punctuation and convert to lowercase\n",
    "sms_df['SMS_text_clean'] = sms_df['SMS_text'].apply(lambda x: ''.join([char for char in x.lower() if char not in string.punctuation]))\n",
    "\n",
    "# Display a sample of the cleaned text\n",
    "sms_df['SMS_text_clean'].head()"
   ]
  },
  {
   "cell_type": "markdown",
   "id": "dc144c5f",
   "metadata": {},
   "source": [
    "### 4.2. Tokenization\n",
    "Split the cleaned text into individual words (tokens)."
   ]
  },
  {
   "cell_type": "code",
   "execution_count": 5,
   "id": "19467b09",
   "metadata": {},
   "outputs": [
    {
     "data": {
      "text/plain": [
       "0    [go, until, jurong, point, crazy, available, o...\n",
       "1                       [ok, lar, joking, wif, u, oni]\n",
       "2    [free, entry, in, 2, a, wkly, comp, to, win, f...\n",
       "3    [u, dun, say, so, early, hor, u, c, already, t...\n",
       "4    [nah, i, dont, think, he, goes, to, usf, he, l...\n",
       "Name: tokens, dtype: object"
      ]
     },
     "execution_count": 5,
     "metadata": {},
     "output_type": "execute_result"
    }
   ],
   "source": [
    "# Tokenize the text using regular expressions to split on non-word characters\n",
    "sms_df['tokens'] = sms_df['SMS_text_clean'].apply(lambda x: re.findall(r'\\b\\w+\\b', x))\n",
    "\n",
    "# Display a sample of the tokenized text\n",
    "sms_df['tokens'].head()"
   ]
  },
  {
   "cell_type": "markdown",
   "id": "4157e986",
   "metadata": {},
   "source": [
    "### 4.3. Stop Word Removal\n",
    "Remove common English stop words that do not contribute significantly to the meaning of the text."
   ]
  },
  {
   "cell_type": "code",
   "execution_count": 6,
   "id": "d10de5f8",
   "metadata": {},
   "outputs": [
    {
     "data": {
      "text/plain": [
       "0    [go, jurong, point, crazy, available, bugis, n...\n",
       "1                       [ok, lar, joking, wif, u, oni]\n",
       "2    [free, entry, 2, wkly, comp, win, fa, cup, fin...\n",
       "3        [u, dun, say, early, hor, u, c, already, say]\n",
       "4    [nah, dont, think, goes, usf, lives, around, t...\n",
       "Name: tokens_nostop, dtype: object"
      ]
     },
     "execution_count": 6,
     "metadata": {},
     "output_type": "execute_result"
    }
   ],
   "source": [
    "# Set of English stop words\n",
    "stop_words = set(stopwords.words('english'))\n",
    "\n",
    "# Remove stop words\n",
    "sms_df['tokens_nostop'] = sms_df['tokens'].apply(lambda x: [word for word in x if word not in stop_words])\n",
    "\n",
    "# Display a sample of the text after stop word removal\n",
    "sms_df['tokens_nostop'].head()"
   ]
  },
  {
   "cell_type": "markdown",
   "id": "ffaf22d0",
   "metadata": {},
   "source": [
    "### 4.4. Lemmatization\n",
    "Reduce each word to its base form using lemmatization."
   ]
  },
  {
   "cell_type": "code",
   "execution_count": 7,
   "id": "3a71a475",
   "metadata": {},
   "outputs": [
    {
     "data": {
      "text/plain": [
       "0    [go, jurong, point, crazy, available, bugis, n...\n",
       "1                       [ok, lar, joking, wif, u, oni]\n",
       "2    [free, entry, 2, wkly, comp, win, fa, cup, fin...\n",
       "3        [u, dun, say, early, hor, u, c, already, say]\n",
       "4    [nah, dont, think, go, usf, life, around, though]\n",
       "Name: tokens_lemmatized, dtype: object"
      ]
     },
     "execution_count": 7,
     "metadata": {},
     "output_type": "execute_result"
    }
   ],
   "source": [
    "# Initialize the lemmatizer\n",
    "lemmatizer = WordNetLemmatizer()\n",
    "\n",
    "# Lemmatize the tokens\n",
    "sms_df['tokens_lemmatized'] = sms_df['tokens_nostop'].apply(lambda x: [lemmatizer.lemmatize(word) for word in x])\n",
    "\n",
    "# Display a sample of the lemmatized text\n",
    "sms_df['tokens_lemmatized'].head()"
   ]
  },
  {
   "cell_type": "markdown",
   "id": "51f4a3cd",
   "metadata": {},
   "source": [
    "---"
   ]
  },
  {
   "cell_type": "markdown",
   "id": "cad88fb5",
   "metadata": {},
   "source": [
    "## 5. Text Vectorization\n",
    "Convert the cleaned and lemmatized text into numerical vectors using TF-IDF (Term Frequency-Inverse Document Frequency). This step transforms text data into a format suitable for machine learning algorithms."
   ]
  },
  {
   "cell_type": "code",
   "execution_count": 8,
   "id": "446e31a0",
   "metadata": {},
   "outputs": [
    {
     "name": "stdout",
     "output_type": "stream",
     "text": [
      "Vocabulary Size: 8885\n",
      "TF-IDF Feature Matrix Shape: (5572, 8885)\n",
      "\n",
      "First 5 items in the vocabulary:\n",
      "Word: 'go', Index: 3610\n",
      "Word: 'jurong', Index: 4458\n",
      "Word: 'point', Index: 6079\n",
      "Word: 'crazy', Index: 2401\n",
      "Word: 'available', Index: 1391\n"
     ]
    }
   ],
   "source": [
    "# Initialize the TF-IDF vectorizer\n",
    "tfidf_vect = TfidfVectorizer()\n",
    "\n",
    "# Convert the text data into TF-IDF feature vectors\n",
    "X_tfidf = tfidf_vect.fit_transform(sms_df['tokens_lemmatized'].apply(lambda x: ' '.join(x))).toarray()\n",
    "\n",
    "# Display the vocabulary size and the shape of the feature matrix\n",
    "print(f\"Vocabulary Size: {len(tfidf_vect.vocabulary_)}\")\n",
    "print(f\"TF-IDF Feature Matrix Shape: {X_tfidf.shape}\\n\")\n",
    "\n",
    "# Display the first 5 items in the vocabulary\n",
    "print('First 5 items in the vocabulary:')\n",
    "for word, index in list(tfidf_vect.vocabulary_.items())[:5]:\n",
    "    print(f\"Word: '{word}', Index: {index}\")"
   ]
  },
  {
   "cell_type": "code",
   "execution_count": 9,
   "id": "c9208060",
   "metadata": {},
   "outputs": [
    {
     "name": "stdout",
     "output_type": "stream",
     "text": [
      "\n",
      "Words in sample message 0 with their TF-IDF scores:\n",
      "Word: 'amore', Index: 1167, TF-IDF Score: 0.349\n",
      "Word: 'available', Index: 1391, TF-IDF Score: 0.265\n",
      "Word: 'buffet', Index: 1829, TF-IDF Score: 0.333\n",
      "Word: 'bugis', Index: 1831, TF-IDF Score: 0.295\n",
      "Word: 'cine', Index: 2139, TF-IDF Score: 0.295\n",
      "Word: 'crazy', Index: 2401, TF-IDF Score: 0.270\n",
      "Word: 'go', Index: 3610, TF-IDF Score: 0.155\n",
      "Word: 'got', Index: 3663, TF-IDF Score: 0.164\n",
      "Word: 'great', Index: 3701, TF-IDF Score: 0.194\n",
      "Word: 'jurong', Index: 4458, TF-IDF Score: 0.349\n",
      "Word: 'la', Index: 4610, TF-IDF Score: 0.295\n",
      "Word: 'point', Index: 6079, TF-IDF Score: 0.238\n",
      "Word: 'wat', Index: 8420, TF-IDF Score: 0.199\n",
      "Word: 'world', Index: 8638, TF-IDF Score: 0.237\n"
     ]
    }
   ],
   "source": [
    "# Get the feature names (words) in the order of their indices in the matrix\n",
    "feature_names = np.array(tfidf_vect.get_feature_names_out())\n",
    "\n",
    "# Select a sample message (e.g., the first message in the dataset) and its TF-IDF vector\n",
    "sample_index = 0\n",
    "sample_vector = X_tfidf[sample_index]\n",
    "\n",
    "# Get the indices of non-zero elements in the sample vector (i.e., words with non-zero TF-IDF scores)\n",
    "non_zero_indices = sample_vector.nonzero()[0]\n",
    "\n",
    "# Display the words and their corresponding TF-IDF values for the sample message\n",
    "print(f\"\\nWords in sample message {sample_index} with their TF-IDF scores:\")\n",
    "for idx in non_zero_indices:\n",
    "    print(f\"Word: '{feature_names[idx]}', Index: {idx}, TF-IDF Score: {sample_vector[idx]:.3f}\")"
   ]
  },
  {
   "cell_type": "markdown",
   "id": "2dc77f47",
   "metadata": {},
   "source": [
    "---"
   ]
  },
  {
   "cell_type": "markdown",
   "id": "db1a6abe",
   "metadata": {},
   "source": [
    "## 6. Model Building\n",
    "We use a Random Forest classifier with GridSearchCV for hyperparameter tuning to build the prediction model."
   ]
  },
  {
   "cell_type": "code",
   "execution_count": 10,
   "id": "8a5a9f38",
   "metadata": {},
   "outputs": [
    {
     "name": "stdout",
     "output_type": "stream",
     "text": [
      "Fitting 5 folds for each of 6 candidates, totalling 30 fits\n",
      "[CV 1/5] END .....max_depth=50, n_estimators=10;, score=0.980 total time=   1.4s\n",
      "[CV 2/5] END .....max_depth=50, n_estimators=10;, score=0.969 total time=   1.2s\n",
      "[CV 3/5] END .....max_depth=50, n_estimators=10;, score=0.969 total time=   1.3s\n",
      "[CV 4/5] END .....max_depth=50, n_estimators=10;, score=0.961 total time=   1.1s\n",
      "[CV 5/5] END .....max_depth=50, n_estimators=10;, score=0.961 total time=   1.3s\n",
      "[CV 1/5] END .....max_depth=50, n_estimators=20;, score=0.980 total time=   2.2s\n",
      "[CV 2/5] END .....max_depth=50, n_estimators=20;, score=0.969 total time=   2.2s\n",
      "[CV 3/5] END .....max_depth=50, n_estimators=20;, score=0.966 total time=   2.2s\n",
      "[CV 4/5] END .....max_depth=50, n_estimators=20;, score=0.960 total time=   2.1s\n",
      "[CV 5/5] END .....max_depth=50, n_estimators=20;, score=0.957 total time=   2.1s\n",
      "[CV 1/5] END ....max_depth=100, n_estimators=10;, score=0.979 total time=   1.8s\n",
      "[CV 2/5] END ....max_depth=100, n_estimators=10;, score=0.970 total time=   1.7s\n",
      "[CV 3/5] END ....max_depth=100, n_estimators=10;, score=0.976 total time=   1.7s\n",
      "[CV 4/5] END ....max_depth=100, n_estimators=10;, score=0.961 total time=   1.8s\n",
      "[CV 5/5] END ....max_depth=100, n_estimators=10;, score=0.965 total time=   1.8s\n",
      "[CV 1/5] END ....max_depth=100, n_estimators=20;, score=0.976 total time=   3.4s\n",
      "[CV 2/5] END ....max_depth=100, n_estimators=20;, score=0.978 total time=   3.3s\n",
      "[CV 3/5] END ....max_depth=100, n_estimators=20;, score=0.971 total time=   3.3s\n",
      "[CV 4/5] END ....max_depth=100, n_estimators=20;, score=0.970 total time=   3.4s\n",
      "[CV 5/5] END ....max_depth=100, n_estimators=20;, score=0.967 total time=   3.4s\n",
      "[CV 1/5] END ....max_depth=200, n_estimators=10;, score=0.978 total time=   2.0s\n",
      "[CV 2/5] END ....max_depth=200, n_estimators=10;, score=0.962 total time=   1.9s\n",
      "[CV 3/5] END ....max_depth=200, n_estimators=10;, score=0.969 total time=   1.9s\n",
      "[CV 4/5] END ....max_depth=200, n_estimators=10;, score=0.963 total time=   2.0s\n",
      "[CV 5/5] END ....max_depth=200, n_estimators=10;, score=0.963 total time=   2.0s\n",
      "[CV 1/5] END ....max_depth=200, n_estimators=20;, score=0.979 total time=   3.8s\n",
      "[CV 2/5] END ....max_depth=200, n_estimators=20;, score=0.970 total time=   3.8s\n",
      "[CV 3/5] END ....max_depth=200, n_estimators=20;, score=0.972 total time=   3.7s\n",
      "[CV 4/5] END ....max_depth=200, n_estimators=20;, score=0.967 total time=   4.0s\n",
      "[CV 5/5] END ....max_depth=200, n_estimators=20;, score=0.965 total time=   4.0s\n"
     ]
    },
    {
     "data": {
      "text/html": [
       "<style>#sk-container-id-1 {\n",
       "  /* Definition of color scheme common for light and dark mode */\n",
       "  --sklearn-color-text: black;\n",
       "  --sklearn-color-line: gray;\n",
       "  /* Definition of color scheme for unfitted estimators */\n",
       "  --sklearn-color-unfitted-level-0: #fff5e6;\n",
       "  --sklearn-color-unfitted-level-1: #f6e4d2;\n",
       "  --sklearn-color-unfitted-level-2: #ffe0b3;\n",
       "  --sklearn-color-unfitted-level-3: chocolate;\n",
       "  /* Definition of color scheme for fitted estimators */\n",
       "  --sklearn-color-fitted-level-0: #f0f8ff;\n",
       "  --sklearn-color-fitted-level-1: #d4ebff;\n",
       "  --sklearn-color-fitted-level-2: #b3dbfd;\n",
       "  --sklearn-color-fitted-level-3: cornflowerblue;\n",
       "\n",
       "  /* Specific color for light theme */\n",
       "  --sklearn-color-text-on-default-background: var(--sg-text-color, var(--theme-code-foreground, var(--jp-content-font-color1, black)));\n",
       "  --sklearn-color-background: var(--sg-background-color, var(--theme-background, var(--jp-layout-color0, white)));\n",
       "  --sklearn-color-border-box: var(--sg-text-color, var(--theme-code-foreground, var(--jp-content-font-color1, black)));\n",
       "  --sklearn-color-icon: #696969;\n",
       "\n",
       "  @media (prefers-color-scheme: dark) {\n",
       "    /* Redefinition of color scheme for dark theme */\n",
       "    --sklearn-color-text-on-default-background: var(--sg-text-color, var(--theme-code-foreground, var(--jp-content-font-color1, white)));\n",
       "    --sklearn-color-background: var(--sg-background-color, var(--theme-background, var(--jp-layout-color0, #111)));\n",
       "    --sklearn-color-border-box: var(--sg-text-color, var(--theme-code-foreground, var(--jp-content-font-color1, white)));\n",
       "    --sklearn-color-icon: #878787;\n",
       "  }\n",
       "}\n",
       "\n",
       "#sk-container-id-1 {\n",
       "  color: var(--sklearn-color-text);\n",
       "}\n",
       "\n",
       "#sk-container-id-1 pre {\n",
       "  padding: 0;\n",
       "}\n",
       "\n",
       "#sk-container-id-1 input.sk-hidden--visually {\n",
       "  border: 0;\n",
       "  clip: rect(1px 1px 1px 1px);\n",
       "  clip: rect(1px, 1px, 1px, 1px);\n",
       "  height: 1px;\n",
       "  margin: -1px;\n",
       "  overflow: hidden;\n",
       "  padding: 0;\n",
       "  position: absolute;\n",
       "  width: 1px;\n",
       "}\n",
       "\n",
       "#sk-container-id-1 div.sk-dashed-wrapped {\n",
       "  border: 1px dashed var(--sklearn-color-line);\n",
       "  margin: 0 0.4em 0.5em 0.4em;\n",
       "  box-sizing: border-box;\n",
       "  padding-bottom: 0.4em;\n",
       "  background-color: var(--sklearn-color-background);\n",
       "}\n",
       "\n",
       "#sk-container-id-1 div.sk-container {\n",
       "  /* jupyter's `normalize.less` sets `[hidden] { display: none; }`\n",
       "     but bootstrap.min.css set `[hidden] { display: none !important; }`\n",
       "     so we also need the `!important` here to be able to override the\n",
       "     default hidden behavior on the sphinx rendered scikit-learn.org.\n",
       "     See: https://github.com/scikit-learn/scikit-learn/issues/21755 */\n",
       "  display: inline-block !important;\n",
       "  position: relative;\n",
       "}\n",
       "\n",
       "#sk-container-id-1 div.sk-text-repr-fallback {\n",
       "  display: none;\n",
       "}\n",
       "\n",
       "div.sk-parallel-item,\n",
       "div.sk-serial,\n",
       "div.sk-item {\n",
       "  /* draw centered vertical line to link estimators */\n",
       "  background-image: linear-gradient(var(--sklearn-color-text-on-default-background), var(--sklearn-color-text-on-default-background));\n",
       "  background-size: 2px 100%;\n",
       "  background-repeat: no-repeat;\n",
       "  background-position: center center;\n",
       "}\n",
       "\n",
       "/* Parallel-specific style estimator block */\n",
       "\n",
       "#sk-container-id-1 div.sk-parallel-item::after {\n",
       "  content: \"\";\n",
       "  width: 100%;\n",
       "  border-bottom: 2px solid var(--sklearn-color-text-on-default-background);\n",
       "  flex-grow: 1;\n",
       "}\n",
       "\n",
       "#sk-container-id-1 div.sk-parallel {\n",
       "  display: flex;\n",
       "  align-items: stretch;\n",
       "  justify-content: center;\n",
       "  background-color: var(--sklearn-color-background);\n",
       "  position: relative;\n",
       "}\n",
       "\n",
       "#sk-container-id-1 div.sk-parallel-item {\n",
       "  display: flex;\n",
       "  flex-direction: column;\n",
       "}\n",
       "\n",
       "#sk-container-id-1 div.sk-parallel-item:first-child::after {\n",
       "  align-self: flex-end;\n",
       "  width: 50%;\n",
       "}\n",
       "\n",
       "#sk-container-id-1 div.sk-parallel-item:last-child::after {\n",
       "  align-self: flex-start;\n",
       "  width: 50%;\n",
       "}\n",
       "\n",
       "#sk-container-id-1 div.sk-parallel-item:only-child::after {\n",
       "  width: 0;\n",
       "}\n",
       "\n",
       "/* Serial-specific style estimator block */\n",
       "\n",
       "#sk-container-id-1 div.sk-serial {\n",
       "  display: flex;\n",
       "  flex-direction: column;\n",
       "  align-items: center;\n",
       "  background-color: var(--sklearn-color-background);\n",
       "  padding-right: 1em;\n",
       "  padding-left: 1em;\n",
       "}\n",
       "\n",
       "\n",
       "/* Toggleable style: style used for estimator/Pipeline/ColumnTransformer box that is\n",
       "clickable and can be expanded/collapsed.\n",
       "- Pipeline and ColumnTransformer use this feature and define the default style\n",
       "- Estimators will overwrite some part of the style using the `sk-estimator` class\n",
       "*/\n",
       "\n",
       "/* Pipeline and ColumnTransformer style (default) */\n",
       "\n",
       "#sk-container-id-1 div.sk-toggleable {\n",
       "  /* Default theme specific background. It is overwritten whether we have a\n",
       "  specific estimator or a Pipeline/ColumnTransformer */\n",
       "  background-color: var(--sklearn-color-background);\n",
       "}\n",
       "\n",
       "/* Toggleable label */\n",
       "#sk-container-id-1 label.sk-toggleable__label {\n",
       "  cursor: pointer;\n",
       "  display: block;\n",
       "  width: 100%;\n",
       "  margin-bottom: 0;\n",
       "  padding: 0.5em;\n",
       "  box-sizing: border-box;\n",
       "  text-align: center;\n",
       "}\n",
       "\n",
       "#sk-container-id-1 label.sk-toggleable__label-arrow:before {\n",
       "  /* Arrow on the left of the label */\n",
       "  content: \"▸\";\n",
       "  float: left;\n",
       "  margin-right: 0.25em;\n",
       "  color: var(--sklearn-color-icon);\n",
       "}\n",
       "\n",
       "#sk-container-id-1 label.sk-toggleable__label-arrow:hover:before {\n",
       "  color: var(--sklearn-color-text);\n",
       "}\n",
       "\n",
       "/* Toggleable content - dropdown */\n",
       "\n",
       "#sk-container-id-1 div.sk-toggleable__content {\n",
       "  max-height: 0;\n",
       "  max-width: 0;\n",
       "  overflow: hidden;\n",
       "  text-align: left;\n",
       "  /* unfitted */\n",
       "  background-color: var(--sklearn-color-unfitted-level-0);\n",
       "}\n",
       "\n",
       "#sk-container-id-1 div.sk-toggleable__content.fitted {\n",
       "  /* fitted */\n",
       "  background-color: var(--sklearn-color-fitted-level-0);\n",
       "}\n",
       "\n",
       "#sk-container-id-1 div.sk-toggleable__content pre {\n",
       "  margin: 0.2em;\n",
       "  border-radius: 0.25em;\n",
       "  color: var(--sklearn-color-text);\n",
       "  /* unfitted */\n",
       "  background-color: var(--sklearn-color-unfitted-level-0);\n",
       "}\n",
       "\n",
       "#sk-container-id-1 div.sk-toggleable__content.fitted pre {\n",
       "  /* unfitted */\n",
       "  background-color: var(--sklearn-color-fitted-level-0);\n",
       "}\n",
       "\n",
       "#sk-container-id-1 input.sk-toggleable__control:checked~div.sk-toggleable__content {\n",
       "  /* Expand drop-down */\n",
       "  max-height: 200px;\n",
       "  max-width: 100%;\n",
       "  overflow: auto;\n",
       "}\n",
       "\n",
       "#sk-container-id-1 input.sk-toggleable__control:checked~label.sk-toggleable__label-arrow:before {\n",
       "  content: \"▾\";\n",
       "}\n",
       "\n",
       "/* Pipeline/ColumnTransformer-specific style */\n",
       "\n",
       "#sk-container-id-1 div.sk-label input.sk-toggleable__control:checked~label.sk-toggleable__label {\n",
       "  color: var(--sklearn-color-text);\n",
       "  background-color: var(--sklearn-color-unfitted-level-2);\n",
       "}\n",
       "\n",
       "#sk-container-id-1 div.sk-label.fitted input.sk-toggleable__control:checked~label.sk-toggleable__label {\n",
       "  background-color: var(--sklearn-color-fitted-level-2);\n",
       "}\n",
       "\n",
       "/* Estimator-specific style */\n",
       "\n",
       "/* Colorize estimator box */\n",
       "#sk-container-id-1 div.sk-estimator input.sk-toggleable__control:checked~label.sk-toggleable__label {\n",
       "  /* unfitted */\n",
       "  background-color: var(--sklearn-color-unfitted-level-2);\n",
       "}\n",
       "\n",
       "#sk-container-id-1 div.sk-estimator.fitted input.sk-toggleable__control:checked~label.sk-toggleable__label {\n",
       "  /* fitted */\n",
       "  background-color: var(--sklearn-color-fitted-level-2);\n",
       "}\n",
       "\n",
       "#sk-container-id-1 div.sk-label label.sk-toggleable__label,\n",
       "#sk-container-id-1 div.sk-label label {\n",
       "  /* The background is the default theme color */\n",
       "  color: var(--sklearn-color-text-on-default-background);\n",
       "}\n",
       "\n",
       "/* On hover, darken the color of the background */\n",
       "#sk-container-id-1 div.sk-label:hover label.sk-toggleable__label {\n",
       "  color: var(--sklearn-color-text);\n",
       "  background-color: var(--sklearn-color-unfitted-level-2);\n",
       "}\n",
       "\n",
       "/* Label box, darken color on hover, fitted */\n",
       "#sk-container-id-1 div.sk-label.fitted:hover label.sk-toggleable__label.fitted {\n",
       "  color: var(--sklearn-color-text);\n",
       "  background-color: var(--sklearn-color-fitted-level-2);\n",
       "}\n",
       "\n",
       "/* Estimator label */\n",
       "\n",
       "#sk-container-id-1 div.sk-label label {\n",
       "  font-family: monospace;\n",
       "  font-weight: bold;\n",
       "  display: inline-block;\n",
       "  line-height: 1.2em;\n",
       "}\n",
       "\n",
       "#sk-container-id-1 div.sk-label-container {\n",
       "  text-align: center;\n",
       "}\n",
       "\n",
       "/* Estimator-specific */\n",
       "#sk-container-id-1 div.sk-estimator {\n",
       "  font-family: monospace;\n",
       "  border: 1px dotted var(--sklearn-color-border-box);\n",
       "  border-radius: 0.25em;\n",
       "  box-sizing: border-box;\n",
       "  margin-bottom: 0.5em;\n",
       "  /* unfitted */\n",
       "  background-color: var(--sklearn-color-unfitted-level-0);\n",
       "}\n",
       "\n",
       "#sk-container-id-1 div.sk-estimator.fitted {\n",
       "  /* fitted */\n",
       "  background-color: var(--sklearn-color-fitted-level-0);\n",
       "}\n",
       "\n",
       "/* on hover */\n",
       "#sk-container-id-1 div.sk-estimator:hover {\n",
       "  /* unfitted */\n",
       "  background-color: var(--sklearn-color-unfitted-level-2);\n",
       "}\n",
       "\n",
       "#sk-container-id-1 div.sk-estimator.fitted:hover {\n",
       "  /* fitted */\n",
       "  background-color: var(--sklearn-color-fitted-level-2);\n",
       "}\n",
       "\n",
       "/* Specification for estimator info (e.g. \"i\" and \"?\") */\n",
       "\n",
       "/* Common style for \"i\" and \"?\" */\n",
       "\n",
       ".sk-estimator-doc-link,\n",
       "a:link.sk-estimator-doc-link,\n",
       "a:visited.sk-estimator-doc-link {\n",
       "  float: right;\n",
       "  font-size: smaller;\n",
       "  line-height: 1em;\n",
       "  font-family: monospace;\n",
       "  background-color: var(--sklearn-color-background);\n",
       "  border-radius: 1em;\n",
       "  height: 1em;\n",
       "  width: 1em;\n",
       "  text-decoration: none !important;\n",
       "  margin-left: 1ex;\n",
       "  /* unfitted */\n",
       "  border: var(--sklearn-color-unfitted-level-1) 1pt solid;\n",
       "  color: var(--sklearn-color-unfitted-level-1);\n",
       "}\n",
       "\n",
       ".sk-estimator-doc-link.fitted,\n",
       "a:link.sk-estimator-doc-link.fitted,\n",
       "a:visited.sk-estimator-doc-link.fitted {\n",
       "  /* fitted */\n",
       "  border: var(--sklearn-color-fitted-level-1) 1pt solid;\n",
       "  color: var(--sklearn-color-fitted-level-1);\n",
       "}\n",
       "\n",
       "/* On hover */\n",
       "div.sk-estimator:hover .sk-estimator-doc-link:hover,\n",
       ".sk-estimator-doc-link:hover,\n",
       "div.sk-label-container:hover .sk-estimator-doc-link:hover,\n",
       ".sk-estimator-doc-link:hover {\n",
       "  /* unfitted */\n",
       "  background-color: var(--sklearn-color-unfitted-level-3);\n",
       "  color: var(--sklearn-color-background);\n",
       "  text-decoration: none;\n",
       "}\n",
       "\n",
       "div.sk-estimator.fitted:hover .sk-estimator-doc-link.fitted:hover,\n",
       ".sk-estimator-doc-link.fitted:hover,\n",
       "div.sk-label-container:hover .sk-estimator-doc-link.fitted:hover,\n",
       ".sk-estimator-doc-link.fitted:hover {\n",
       "  /* fitted */\n",
       "  background-color: var(--sklearn-color-fitted-level-3);\n",
       "  color: var(--sklearn-color-background);\n",
       "  text-decoration: none;\n",
       "}\n",
       "\n",
       "/* Span, style for the box shown on hovering the info icon */\n",
       ".sk-estimator-doc-link span {\n",
       "  display: none;\n",
       "  z-index: 9999;\n",
       "  position: relative;\n",
       "  font-weight: normal;\n",
       "  right: .2ex;\n",
       "  padding: .5ex;\n",
       "  margin: .5ex;\n",
       "  width: min-content;\n",
       "  min-width: 20ex;\n",
       "  max-width: 50ex;\n",
       "  color: var(--sklearn-color-text);\n",
       "  box-shadow: 2pt 2pt 4pt #999;\n",
       "  /* unfitted */\n",
       "  background: var(--sklearn-color-unfitted-level-0);\n",
       "  border: .5pt solid var(--sklearn-color-unfitted-level-3);\n",
       "}\n",
       "\n",
       ".sk-estimator-doc-link.fitted span {\n",
       "  /* fitted */\n",
       "  background: var(--sklearn-color-fitted-level-0);\n",
       "  border: var(--sklearn-color-fitted-level-3);\n",
       "}\n",
       "\n",
       ".sk-estimator-doc-link:hover span {\n",
       "  display: block;\n",
       "}\n",
       "\n",
       "/* \"?\"-specific style due to the `<a>` HTML tag */\n",
       "\n",
       "#sk-container-id-1 a.estimator_doc_link {\n",
       "  float: right;\n",
       "  font-size: 1rem;\n",
       "  line-height: 1em;\n",
       "  font-family: monospace;\n",
       "  background-color: var(--sklearn-color-background);\n",
       "  border-radius: 1rem;\n",
       "  height: 1rem;\n",
       "  width: 1rem;\n",
       "  text-decoration: none;\n",
       "  /* unfitted */\n",
       "  color: var(--sklearn-color-unfitted-level-1);\n",
       "  border: var(--sklearn-color-unfitted-level-1) 1pt solid;\n",
       "}\n",
       "\n",
       "#sk-container-id-1 a.estimator_doc_link.fitted {\n",
       "  /* fitted */\n",
       "  border: var(--sklearn-color-fitted-level-1) 1pt solid;\n",
       "  color: var(--sklearn-color-fitted-level-1);\n",
       "}\n",
       "\n",
       "/* On hover */\n",
       "#sk-container-id-1 a.estimator_doc_link:hover {\n",
       "  /* unfitted */\n",
       "  background-color: var(--sklearn-color-unfitted-level-3);\n",
       "  color: var(--sklearn-color-background);\n",
       "  text-decoration: none;\n",
       "}\n",
       "\n",
       "#sk-container-id-1 a.estimator_doc_link.fitted:hover {\n",
       "  /* fitted */\n",
       "  background-color: var(--sklearn-color-fitted-level-3);\n",
       "}\n",
       "</style><div id=\"sk-container-id-1\" class=\"sk-top-container\"><div class=\"sk-text-repr-fallback\"><pre>GridSearchCV(cv=5, estimator=RandomForestClassifier(random_state=42),\n",
       "             param_grid={&#x27;max_depth&#x27;: [50, 100, 200], &#x27;n_estimators&#x27;: [10, 20]},\n",
       "             scoring=&#x27;accuracy&#x27;, verbose=3)</pre><b>In a Jupyter environment, please rerun this cell to show the HTML representation or trust the notebook. <br />On GitHub, the HTML representation is unable to render, please try loading this page with nbviewer.org.</b></div><div class=\"sk-container\" hidden><div class=\"sk-item sk-dashed-wrapped\"><div class=\"sk-label-container\"><div class=\"sk-label fitted sk-toggleable\"><input class=\"sk-toggleable__control sk-hidden--visually\" id=\"sk-estimator-id-1\" type=\"checkbox\" ><label for=\"sk-estimator-id-1\" class=\"sk-toggleable__label fitted sk-toggleable__label-arrow fitted\">&nbsp;&nbsp;GridSearchCV<a class=\"sk-estimator-doc-link fitted\" rel=\"noreferrer\" target=\"_blank\" href=\"https://scikit-learn.org/1.5/modules/generated/sklearn.model_selection.GridSearchCV.html\">?<span>Documentation for GridSearchCV</span></a><span class=\"sk-estimator-doc-link fitted\">i<span>Fitted</span></span></label><div class=\"sk-toggleable__content fitted\"><pre>GridSearchCV(cv=5, estimator=RandomForestClassifier(random_state=42),\n",
       "             param_grid={&#x27;max_depth&#x27;: [50, 100, 200], &#x27;n_estimators&#x27;: [10, 20]},\n",
       "             scoring=&#x27;accuracy&#x27;, verbose=3)</pre></div> </div></div><div class=\"sk-parallel\"><div class=\"sk-parallel-item\"><div class=\"sk-item\"><div class=\"sk-label-container\"><div class=\"sk-label fitted sk-toggleable\"><input class=\"sk-toggleable__control sk-hidden--visually\" id=\"sk-estimator-id-2\" type=\"checkbox\" ><label for=\"sk-estimator-id-2\" class=\"sk-toggleable__label fitted sk-toggleable__label-arrow fitted\">best_estimator_: RandomForestClassifier</label><div class=\"sk-toggleable__content fitted\"><pre>RandomForestClassifier(max_depth=100, n_estimators=20, random_state=42)</pre></div> </div></div><div class=\"sk-serial\"><div class=\"sk-item\"><div class=\"sk-estimator fitted sk-toggleable\"><input class=\"sk-toggleable__control sk-hidden--visually\" id=\"sk-estimator-id-3\" type=\"checkbox\" ><label for=\"sk-estimator-id-3\" class=\"sk-toggleable__label fitted sk-toggleable__label-arrow fitted\">&nbsp;RandomForestClassifier<a class=\"sk-estimator-doc-link fitted\" rel=\"noreferrer\" target=\"_blank\" href=\"https://scikit-learn.org/1.5/modules/generated/sklearn.ensemble.RandomForestClassifier.html\">?<span>Documentation for RandomForestClassifier</span></a></label><div class=\"sk-toggleable__content fitted\"><pre>RandomForestClassifier(max_depth=100, n_estimators=20, random_state=42)</pre></div> </div></div></div></div></div></div></div></div></div>"
      ],
      "text/plain": [
       "GridSearchCV(cv=5, estimator=RandomForestClassifier(random_state=42),\n",
       "             param_grid={'max_depth': [50, 100, 200], 'n_estimators': [10, 20]},\n",
       "             scoring='accuracy', verbose=3)"
      ]
     },
     "execution_count": 10,
     "metadata": {},
     "output_type": "execute_result"
    }
   ],
   "source": [
    "# Set up the RandomForest model and hyperparameter tuning using GridSearchCV\n",
    "param_grid = {\n",
    "   'n_estimators': [10, 20],\n",
    "   'max_depth': [50, 100, 200]\n",
    "}\n",
    "\n",
    "# Initialize the RandomForest classifier\n",
    "rf_model = RandomForestClassifier(random_state=42)\n",
    "\n",
    "# Perform grid search to find the best hyperparameters\n",
    "grid_search = GridSearchCV(estimator=rf_model, param_grid=param_grid, cv=5, scoring='accuracy', verbose=3)\n",
    "grid_search.fit(X_tfidf, sms_df['label'])\n"
   ]
  },
  {
   "cell_type": "code",
   "execution_count": 11,
   "id": "f942bfc7",
   "metadata": {},
   "outputs": [
    {
     "data": {
      "image/png": "[encoded data removed]",
      "text/plain": [
       "<Figure size 1000x600 with 2 Axes>"
      ]
     },
     "metadata": {},
     "output_type": "display_data"
    }
   ],
   "source": [
    "# Extract and visualize GridSearchCV results using a heatmap\n",
    "results = pd.DataFrame(grid_search.cv_results_)\n",
    "pivot_table = results.pivot(index='param_max_depth', columns='param_n_estimators', values='mean_test_score')\n",
    "\n",
    "plt.figure(figsize=(10, 6))\n",
    "sns.heatmap(pivot_table, annot=True, cmap=\"coolwarm\", fmt=\".3f\", linewidths=.5)\n",
    "plt.title('Grid Search Accuracy Results')\n",
    "plt.xlabel('Number of Estimators')\n",
    "plt.ylabel('Max Depth')\n",
    "plt.show()"
   ]
  },
  {
   "cell_type": "markdown",
   "id": "9a5957e5",
   "metadata": {},
   "source": [
    "---"
   ]
  },
  {
   "cell_type": "markdown",
   "id": "5d9c9203",
   "metadata": {},
   "source": [
    "## 7. Model Evaluation\n",
    "Evaluate the model's performance using a confusion matrix."
   ]
  },
  {
   "cell_type": "code",
   "execution_count": 12,
   "id": "3f205ffc",
   "metadata": {},
   "outputs": [
    {
     "name": "stdout",
     "output_type": "stream",
     "text": [
      "Best parameters found: {'max_depth': 100, 'n_estimators': 20}\n",
      "Best cross-validation score: 0.972\n"
     ]
    },
    {
     "data": {
      "image/png": "[encoded data removed]",
      "text/plain": [
       "<Figure size 640x480 with 2 Axes>"
      ]
     },
     "metadata": {},
     "output_type": "display_data"
    }
   ],
   "source": [
    "# Print the best parameters and the best score\n",
    "print(f\"Best parameters found: {grid_search.best_params_}\")\n",
    "print(f\"Best cross-validation score: {grid_search.best_score_:.3f}\")\n",
    "\n",
    "# Predict on the dataset using the best model from grid search\n",
    "y_pred = grid_search.best_estimator_.predict(X_tfidf)\n",
    "\n",
    "# Plot the confusion matrix\n",
    "cm = confusion_matrix(sms_df['label'], y_pred, labels=grid_search.classes_)\n",
    "disp = ConfusionMatrixDisplay(confusion_matrix=cm, display_labels=grid_search.classes_)\n",
    "disp.plot(cmap=\"Blues\")\n",
    "plt.title('Confusion Matrix')\n",
    "plt.show()"
   ]
  },
  {
   "cell_type": "markdown",
   "id": "817ce2e6",
   "metadata": {},
   "source": [
    "---"
   ]
  },
  {
   "cell_type": "markdown",
   "id": "31683808",
   "metadata": {},
   "source": [
    "## 8. Conclusion\n",
    "The model successfully classifies SMS messages with high accuracy, as evidenced by the confusion matrix, which demonstrates its effectiveness in distinguishing between \"spam\" and \"ham\" messages.\n",
    "\n",
    "However, the current code does not address certain challenges in the dataset, such as the presence of special characters (e.g., \"£\", \"http://\"), numerical sequences (e.g., phone numbers, prices), and various punctuation marks. Additionally, handling slang, abbreviations, and misspellings is crucial for accurate classification, especially in informal text like SMS messages.\n",
    "\n",
    "Future improvements could involve refining text preprocessing to include handling of these symbols, URLs, numbers, and slang. Additionally, using advanced NLP techniques such as word embeddings, transformers (e.g., BERT), or other machine learning algorithms could further enhance the model's ability to capture the contextual meaning of these elements for better spam detection."
   ]
  }
 ],
 "metadata": {
  "kernelspec": {
   "display_name": "Python 3 (ipykernel)",
   "language": "python",
   "name": "python3"
  },
  "language_info": {
   "codemirror_mode": {
    "name": "ipython",
    "version": 3
   },
   "file_extension": ".py",
   "mimetype": "text/x-python",
   "name": "python",
   "nbconvert_exporter": "python",
   "pygments_lexer": "ipython3",
   "version": "3.12.4"
  }
 },
 "nbformat": 4,
 "nbformat_minor": 5
}
